{
 "cells": [
  {
   "cell_type": "markdown",
   "metadata": {},
   "source": [
    "# Performances without BPE: Exact Values(Macro/Micro CRR and WRR)."
   ]
  },
  {
   "cell_type": "code",
   "execution_count": 16,
   "metadata": {
    "collapsed": true
   },
   "outputs": [],
   "source": [
    "fname = \"test_new.txt\"\n",
    "with open(fname) as f:\n",
    "    content = f.readlines()\n",
    "# you may also want to remove whitespace characters like `\\n` at the end of each line\n",
    "content = [x.strip() for x in content]\n",
    "fname = \"output_infer_new.txt\"\n",
    "with open(fname) as f:\n",
    "    content1 = f.readlines()\n",
    "# you may also want to remove whitespace characters like `\\n` at the end of each line\n",
    "content1 = [x.strip() for x in content1]"
   ]
  },
  {
   "cell_type": "code",
   "execution_count": 17,
   "metadata": {
    "collapsed": true
   },
   "outputs": [],
   "source": [
    "def lcs(X , Y):\n",
    "    # find the length of the strings\n",
    "    m = len(X)\n",
    "    n = len(Y)\n",
    " \n",
    "    # declaring the array for storing the dp values\n",
    "    L = [[None]*(n+1) for i in range(m+1)]\n",
    " \n",
    "    \"\"\"Following steps build L[m+1][n+1] in bottom up fashion\n",
    "    Note: L[i][j] contains length of LCS of X[0..i-1]\n",
    "    and Y[0..j-1]\"\"\"\n",
    "    for i in range(m+1):\n",
    "        for j in range(n+1):\n",
    "            if i == 0 or j == 0 :\n",
    "                L[i][j] = 0\n",
    "            elif X[i-1] == Y[j-1]:\n",
    "                L[i][j] = L[i-1][j-1]+1\n",
    "            else:\n",
    "                L[i][j] = max(L[i-1][j] , L[i][j-1])\n",
    " \n",
    "    # L[m][n] contains the length of LCS of X[0..n-1] & Y[0..m-1]\n",
    "    return L[m][n]"
   ]
  },
  {
   "cell_type": "code",
   "execution_count": 18,
   "metadata": {},
   "outputs": [
    {
     "name": "stdout",
     "output_type": "stream",
     "text": [
      "For WRR\n",
      "Overall(Macro):  0.532293986636971\n",
      "Overall(Micro):  0.47457326696202584\n",
      "Top 5%:  1.0\n",
      "Top 10%:  0.9750645994832041\n",
      "Top 50%:  0.7588447896859105\n"
     ]
    }
   ],
   "source": [
    "print(\"For WRR\")\n",
    "ar, l1, ls = [], [], []\n",
    "for x, y in zip(content, content1):\n",
    "    count = 0\n",
    "    x = list(map(str, x.split(' ')))\n",
    "    y = list(map(str, y.split(' ')))\n",
    "    leng = min(len(x), len(y))\n",
    "    count = lcs(x, y)\n",
    "    l1.append(float(count)/leng)\n",
    "    ar.append(count)\n",
    "    ls.append(leng)\n",
    "# print(l1)\n",
    "print(\"Overall(Macro): \", sum(ar)/sum(ls))\n",
    "print(\"Overall(Micro): \", float(sum(l1))/len(l1))\n",
    "top5 = sorted(l1)[int(0.95*len(l1)):]\n",
    "top10 = sorted(l1)[int(0.9*len(l1)):]\n",
    "top50 = sorted(l1)[int(0.5*len(l1)):]\n",
    "print(\"Top 5%: \", sum(top5)/len(top5))\n",
    "print(\"Top 10%: \", sum(top10)/len(top10))\n",
    "print(\"Top 50%: \", sum(top50)/len(top50))"
   ]
  },
  {
   "cell_type": "code",
   "execution_count": 19,
   "metadata": {},
   "outputs": [
    {
     "name": "stdout",
     "output_type": "stream",
     "text": [
      "For CRR\n",
      "Overall(Macro):  0.8573102529960053\n",
      "Overall(Micro):  0.8571608109429899\n",
      "Top 5%:  1.0\n",
      "Top 10%:  0.9967598846336387\n",
      "Top 50%:  0.9626889009703458\n"
     ]
    }
   ],
   "source": [
    "print(\"For CRR\")\n",
    "ar, l1, ls = [], [], []\n",
    "for x, y in zip(content, content1):\n",
    "    leng = min(len(x), len(y))\n",
    "    unm = 0\n",
    "    crr =  lcs(x, y)\n",
    "    ls.append(leng)\n",
    "    l1.append(float(crr)/leng)\n",
    "    ar.append(crr)\n",
    "    \n",
    "    \n",
    "print(\"Overall(Macro): \", sum(ar)/sum(ls))\n",
    "print(\"Overall(Micro): \", sum(l1)/len(l1))\n",
    "top5 = sorted(l1)[int(0.95*len(l1)):]\n",
    "top10 = sorted(l1)[int(0.9*len(l1)):]\n",
    "top50 = sorted(l1)[int(0.5*len(l1)):]\n",
    "print(\"Top 5%: \", sum(top5)/len(top5))\n",
    "print(\"Top 10%: \", sum(top10)/len(top10))\n",
    "print(\"Top 50%: \", sum(top50)/len(top50))"
   ]
  },
  {
   "cell_type": "code",
   "execution_count": null,
   "metadata": {
    "collapsed": true
   },
   "outputs": [],
   "source": []
  }
 ],
 "metadata": {
  "kernelspec": {
   "display_name": "Python 3",
   "language": "python",
   "name": "python3"
  },
  "language_info": {
   "codemirror_mode": {
    "name": "ipython",
    "version": 3
   },
   "file_extension": ".py",
   "mimetype": "text/x-python",
   "name": "python",
   "nbconvert_exporter": "python",
   "pygments_lexer": "ipython3",
   "version": "3.6.3"
  }
 },
 "nbformat": 4,
 "nbformat_minor": 2
}
